{
 "cells": [
  {
   "cell_type": "markdown",
   "metadata": {},
   "source": [
    "# Remapping of WOA 2013 T/S for bias plots"
   ]
  },
  {
   "cell_type": "code",
   "execution_count": null,
   "metadata": {},
   "outputs": [],
   "source": [
    "import xarray as xr\n",
    "from vcr import utils, conserve\n",
    "import numpy as np\n",
    "import seawater\n",
    "import time\n",
    "import pydap"
   ]
  },
  {
   "cell_type": "code",
   "execution_count": null,
   "metadata": {},
   "outputs": [],
   "source": [
    "import matplotlib.pyplot as plt"
   ]
  },
  {
   "cell_type": "markdown",
   "metadata": {},
   "source": [
    "url for the WOA13 dataset:"
   ]
  },
  {
   "cell_type": "code",
   "execution_count": null,
   "metadata": {},
   "outputs": [],
   "source": [
    "url_temp = 'https://www.ncei.noaa.gov/thredds-ocean/dodsC/ncei/archive/data/0114815/public/temperature/netcdf/decav/1.00/'\n",
    "url_salt = 'https://www.ncei.noaa.gov/thredds-ocean/dodsC/ncei/archive/data/0114815/public/salinity/netcdf/decav/1.00/'"
   ]
  },
  {
   "cell_type": "markdown",
   "metadata": {},
   "source": [
    "The target vertical interfaces can be loaded from MOM6 z-level outputs. \n",
    "\n",
    "In order not to be dependent on model outputs in the notebook,\n",
    "we just copy the values as found in model files:"
   ]
  },
  {
   "cell_type": "code",
   "execution_count": null,
   "metadata": {},
   "outputs": [],
   "source": [
    "depth_tgt = np.array([2.5000e+00, 1.0000e+01, 2.0000e+01, 3.2500e+01, 5.1250e+01,\n",
    "                      7.5000e+01, 1.0000e+02, 1.2500e+02, 1.5625e+02, 2.0000e+02,\n",
    "                      2.5000e+02, 3.1250e+02, 4.0000e+02, 5.0000e+02, 6.0000e+02,\n",
    "                      7.0000e+02, 8.0000e+02, 9.0000e+02, 1.0000e+03, 1.1000e+03,\n",
    "                      1.2000e+03, 1.3000e+03, 1.4000e+03, 1.5375e+03, 1.7500e+03,\n",
    "                      2.0625e+03, 2.5000e+03, 3.0000e+03, 3.5000e+03, 4.0000e+03,\n",
    "                      4.5000e+03, 5.0000e+03, 5.5000e+03, 6.0000e+03, 6.5000e+03])\n",
    "\n",
    "\n",
    "depth_bnds_tgt = np.array([0.000e+00, 5.000e+00, 1.500e+01, 2.500e+01, 4.000e+01, 6.250e+01,\n",
    "                           8.750e+01, 1.125e+02, 1.375e+02, 1.750e+02, 2.250e+02, 2.750e+02,\n",
    "                           3.500e+02, 4.500e+02, 5.500e+02, 6.500e+02, 7.500e+02, 8.500e+02,\n",
    "                           9.500e+02, 1.050e+03, 1.150e+03, 1.250e+03, 1.350e+03, 1.450e+03,\n",
    "                           1.625e+03, 1.875e+03, 2.250e+03, 2.750e+03, 3.250e+03, 3.750e+03,\n",
    "                           4.250e+03, 4.750e+03, 5.250e+03, 5.750e+03, 6.250e+03, 6.750e+03])"
   ]
  },
  {
   "cell_type": "code",
   "execution_count": null,
   "metadata": {},
   "outputs": [],
   "source": [
    "def process_woa_TS_data(depth_tgt, depth_bnds_tgt, period=0, debug=False):\n",
    "    \"\"\"  download data from opendap, compute potential temperature,\n",
    "    roll to 0-360 and create dataset \"\"\"\n",
    "    \n",
    "    cperiod = str(period).zfill(2)\n",
    "    # load the original data\n",
    "    woa13_t = xr.open_dataset(f'{url_temp}/woa13_decav_t{cperiod}_01.nc',\n",
    "                              decode_times=False, engine='pydap')\n",
    "    woa13_s = xr.open_dataset(f'{url_salt}/woa13_decav_s{cperiod}_01.nc',\n",
    "                              decode_times=False, engine='pydap')\n",
    "    \n",
    "    # compute potential temperature\n",
    "    p = xr.apply_ufunc(seawater.eos80.pres, woa13_t.depth, woa13_t.t_an,\n",
    "                       dask='parallelized',\n",
    "                       output_dtypes=[woa13_t.t_an.dtype])\n",
    "    ptemp = xr.apply_ufunc(seawater.eos80.ptmp, woa13_s.s_an, woa13_t.t_an, p,\n",
    "                           dask='parallelized',\n",
    "                           output_dtypes=[woa13_t.t_an.dtype])\n",
    "    \n",
    "    # re-arange depth bounds for WOA13\n",
    "    depth_bnds_src = utils.bounds_2d_to_1d(woa13_t['depth_bnds'])\n",
    "    \n",
    "    # create remapping weights\n",
    "    remapping = conserve.create_remapping_matrix(depth_bnds_src, depth_bnds_tgt,\n",
    "                                                 strict=False)\n",
    "    \n",
    "    # Remap the data\n",
    "    ptemp_remapped = conserve.vertical_remap_z2z(ptemp.squeeze(dim='time').values,\n",
    "                                                 remapping)\n",
    "    salt_remapped = conserve.vertical_remap_z2z(woa13_s['s_an'].squeeze(dim='time').values,\n",
    "                                                remapping, correct4bathy=True)\n",
    "    \n",
    "    # roll the data\n",
    "    lon = np.roll(woa13_t['lon'].values, -180, axis=0)\n",
    "    lon = np.mod(lon+360, 360)\n",
    "    ptemp_0360 = np.roll(ptemp_remapped, -180, axis=-1)\n",
    "    salt_0360 = np.roll(salt_remapped, -180, axis=-1)\n",
    "    \n",
    "    salt_0360_ori = np.roll(woa13_s['s_an'].squeeze(dim='time').values, -180, axis=-1)\n",
    "    ptemp_0360_ori = np.roll(ptemp.squeeze(dim='time').values, -180, axis=-1)\n",
    "    \n",
    "    if debug:\n",
    "        plt.figure(figsize=[10,10])\n",
    "        plt.plot(salt_0360[:,134,185], depth_tgt,'r')\n",
    "        plt.plot(salt_0360_ori[:,134,185], woa13_s['depth'].values,'b')\n",
    "    \n",
    "        plt.figure(figsize=[10,10])\n",
    "        plt.plot(salt_0360[:,71,243], depth_tgt,'r.')\n",
    "        plt.plot(salt_0360_ori[:,71,243], woa13_s['depth'].values,'b.')\n",
    "    \n",
    "        plt.figure(figsize=[10,10])\n",
    "        plt.plot(salt_0360[:,45,182], depth_tgt,'r.')\n",
    "        plt.plot(salt_0360_ori[:,45,182], woa13_s['depth'].values,'b.')\n",
    "    \n",
    "        plt.figure(figsize=[10,10])\n",
    "        plt.plot(ptemp_0360[:,71,243], depth_tgt,'r.')\n",
    "        plt.plot(ptemp_0360_ori[:,71,243], woa13_s['depth'].values,'b.')\n",
    "    \n",
    "    ptemp_0360 = np.expand_dims(ptemp_0360, axis=0)\n",
    "    salt_0360 = np.expand_dims(salt_0360, axis=0)\n",
    "    \n",
    "    woa13_remapped = xr.Dataset()\n",
    "    woa13_remapped['z_l'] = xr.DataArray(data=depth_tgt, dims=('z_l'))\n",
    "    woa13_remapped['lon'] = xr.DataArray(data=lon, dims=('lon'))\n",
    "    woa13_remapped['lat'] = xr.DataArray(data=woa13_t['lat'].values, dims=('lat'))\n",
    "    woa13_remapped['time'] = woa13_t['time']\n",
    "    woa13_remapped['ptemp'] = xr.DataArray(data=ptemp_0360,\n",
    "                                           coords={'time': woa13_remapped['time'],\n",
    "                                                   'z_l': woa13_remapped['z_l'],\n",
    "                                                   'lat': woa13_remapped['lat'],\n",
    "                                                   'lon': woa13_remapped['lon']},\n",
    "                                           dims=('time', 'z_l', 'lat', 'lon'))\n",
    "    woa13_remapped['salinity'] = xr.DataArray(data=salt_0360,\n",
    "                                              coords={'time': woa13_remapped['time'],\n",
    "                                                      'z_l': woa13_remapped['z_l'],\n",
    "                                                      'lat': woa13_remapped['lat'],\n",
    "                                                      'lon': woa13_remapped['lon']},\n",
    "                                              dims=('time', 'z_l', 'lat', 'lon'))\n",
    "    return woa13_remapped"
   ]
  },
  {
   "cell_type": "markdown",
   "metadata": {},
   "source": [
    "## Annual data"
   ]
  },
  {
   "cell_type": "code",
   "execution_count": null,
   "metadata": {},
   "outputs": [],
   "source": [
    "period = 0\n",
    "ds = process_woa_TS_data(depth_tgt, depth_bnds_tgt)\n",
    "ds.to_netcdf('WOA13_ptemp+salinity_annual_35levels.nc',\n",
    "             format='NETCDF3_64BIT')\n",
    "ds.close()\n",
    "\n",
    "time.sleep(2)"
   ]
  },
  {
   "cell_type": "markdown",
   "metadata": {},
   "source": [
    "## Monthly data"
   ]
  },
  {
   "cell_type": "code",
   "execution_count": null,
   "metadata": {},
   "outputs": [],
   "source": [
    "for kt in range(12):\n",
    "    month = kt + 1\n",
    "    cmonth = str(month).zfill(2)\n",
    "    ds = process_woa_TS_data(depth_tgt, depth_bnds_tgt, period=month)\n",
    "    ds.to_netcdf(f'WOA13_ptemp+salinity_m{cmonth}_35levels.nc',\n",
    "                 format='NETCDF3_64BIT')\n",
    "    ds.close()\n",
    "    time.sleep(2)"
   ]
  },
  {
   "cell_type": "code",
   "execution_count": null,
   "metadata": {},
   "outputs": [],
   "source": [
    "dsm = xr.open_mfdataset('WOA13_ptemp+salinity_m*_35levels.nc',\n",
    "                        combine='by_coords', decode_times=False)\n",
    "dsm.to_netcdf('WOA13_ptemp+salinity_monthly_35levels.nc',\n",
    "              format='NETCDF3_64BIT')"
   ]
  },
  {
   "cell_type": "markdown",
   "metadata": {},
   "source": [
    "*time at approx 30 seconds run time*"
   ]
  }
 ],
 "metadata": {
  "kernelspec": {
   "display_name": "analysis",
   "language": "python",
   "name": "analysis"
  },
  "language_info": {
   "codemirror_mode": {
    "name": "ipython",
    "version": 3
   },
   "file_extension": ".py",
   "mimetype": "text/x-python",
   "name": "python",
   "nbconvert_exporter": "python",
   "pygments_lexer": "ipython3",
   "version": "3.6.10"
  }
 },
 "nbformat": 4,
 "nbformat_minor": 4
}
